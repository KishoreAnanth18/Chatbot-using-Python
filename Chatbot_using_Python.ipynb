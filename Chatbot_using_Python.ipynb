{
  "nbformat": 4,
  "nbformat_minor": 0,
  "metadata": {
    "colab": {
      "name": "Chatbot using Python.ipynb",
      "provenance": [],
      "collapsed_sections": [],
      "authorship_tag": "ABX9TyPtBLN3AN90aDq1fdGuNEIu",
      "include_colab_link": true
    },
    "kernelspec": {
      "name": "python3",
      "display_name": "Python 3"
    },
    "language_info": {
      "name": "python"
    }
  },
  "cells": [
    {
      "cell_type": "markdown",
      "metadata": {
        "id": "view-in-github",
        "colab_type": "text"
      },
      "source": [
        "<a href=\"https://colab.research.google.com/github/KishoreAnanth18/Chatbot-using-Python/blob/main/Chatbot_using_Python.ipynb\" target=\"_parent\"><img src=\"https://colab.research.google.com/assets/colab-badge.svg\" alt=\"Open In Colab\"/></a>"
      ]
    },
    {
      "cell_type": "markdown",
      "metadata": {
        "id": "awxyJwad5iFK"
      },
      "source": [
        "**CHATBOT USING PYTHON**      \n",
        "KISHORE ANANTH N"
      ]
    },
    {
      "cell_type": "markdown",
      "metadata": {
        "id": "oa5QM4xq5o-I"
      },
      "source": [
        "Importing libraries"
      ]
    },
    {
      "cell_type": "code",
      "metadata": {
        "id": "RoblOlQP4uKd"
      },
      "source": [
        "import numpy as np\n",
        "import nltk\n",
        "import string\n",
        "import random"
      ],
      "execution_count": 2,
      "outputs": []
    },
    {
      "cell_type": "markdown",
      "metadata": {
        "id": "zAS5hMnU50qy"
      },
      "source": [
        "Importing and Reading the dataset(corpus)"
      ]
    },
    {
      "cell_type": "code",
      "metadata": {
        "id": "IDCe78iZ5DFH",
        "colab": {
          "base_uri": "https://localhost:8080/"
        },
        "outputId": "3c0335e1-1cdf-45fb-9666-18c49510ed36"
      },
      "source": [
        "f = open('Chatbot.txt','r',errors = 'ignore')\n",
        "raw_doc = f.read()\n",
        "raw_doc = raw_doc.lower()\n",
        "nltk.download('punkt')\n",
        "nltk.download('wordnet')\n",
        "sent_tokens = nltk.sent_tokenize(raw_doc)\n",
        "word_tokens = nltk.word_tokenize(raw_doc)"
      ],
      "execution_count": 4,
      "outputs": [
        {
          "output_type": "stream",
          "name": "stdout",
          "text": [
            "[nltk_data] Downloading package punkt to /root/nltk_data...\n",
            "[nltk_data]   Unzipping tokenizers/punkt.zip.\n",
            "[nltk_data] Downloading package wordnet to /root/nltk_data...\n",
            "[nltk_data]   Unzipping corpora/wordnet.zip.\n"
          ]
        }
      ]
    },
    {
      "cell_type": "markdown",
      "metadata": {
        "id": "aeuXYbcx56oD"
      },
      "source": [
        "Sentance token: Example"
      ]
    },
    {
      "cell_type": "code",
      "metadata": {
        "colab": {
          "base_uri": "https://localhost:8080/"
        },
        "id": "yn9c3R2lLgoo",
        "outputId": "cf5f81a9-953b-40bf-a5f1-f530543264c7"
      },
      "source": [
        "sent_tokens[:2]"
      ],
      "execution_count": 5,
      "outputs": [
        {
          "output_type": "execute_result",
          "data": {
            "text/plain": [
              "['chatbot\\nfrom wikipedia, the free encyclopedia\\njump to navigationjump to search\\nfor other uses, see chatbot (disambiguation).',\n",
              " 'a virtual assistant chatbot\\n\\nthe 1966 eliza chatbot\\na chatbot is a software application used to conduct an on-line chat conversation via text or text-to-speech, in lieu of providing direct contact with a live human agent.']"
            ]
          },
          "metadata": {},
          "execution_count": 5
        }
      ]
    },
    {
      "cell_type": "markdown",
      "metadata": {
        "id": "vhJg_08T6BUE"
      },
      "source": [
        "Word token: Example"
      ]
    },
    {
      "cell_type": "code",
      "metadata": {
        "colab": {
          "base_uri": "https://localhost:8080/"
        },
        "id": "A2y3JxBTLr6V",
        "outputId": "ee2341e5-286e-4a19-dc8c-bf231b15c7a6"
      },
      "source": [
        "word_tokens[:2]"
      ],
      "execution_count": 6,
      "outputs": [
        {
          "output_type": "execute_result",
          "data": {
            "text/plain": [
              "['chatbot', 'from']"
            ]
          },
          "metadata": {},
          "execution_count": 6
        }
      ]
    },
    {
      "cell_type": "markdown",
      "metadata": {
        "id": "J8IwtPHR6G8h"
      },
      "source": [
        "Text preprocessing"
      ]
    },
    {
      "cell_type": "code",
      "metadata": {
        "id": "rGladVtcLwTP"
      },
      "source": [
        "lemmer = nltk.stem.WordNetLemmatizer()\n",
        "def LemTokens(tokens):\n",
        "  return [lemmer.lemmatize(token) for token in tokens]\n",
        "remove_punct_dict = dict((ord (punct), None) for punct in string.punctuation)\n",
        "def LemNormalize(text):\n",
        "  return LemTokens(nltk.word_tokenize(text.lower().translate(remove_punct_dict)))"
      ],
      "execution_count": 16,
      "outputs": []
    },
    {
      "cell_type": "markdown",
      "metadata": {
        "id": "JBlXEsAL6Ldp"
      },
      "source": [
        "Defining the Greeting function\n"
      ]
    },
    {
      "cell_type": "code",
      "metadata": {
        "id": "NfYi_GJetjD_"
      },
      "source": [
        "GREET_INPUTS = (\"hello\", \"hi\", \"greetings\", \"whatsup\", \"hey\", \"morning\", \"afternoon\", \"evng\")\n",
        "GREET_RESPONSES = (\"hi\",\"heyy\",\"hi there\", \"hello\", \"I am glad!\")\n",
        "def greet(sentence):\n",
        "  for word in sentence.split():\n",
        "    if word.lower() in GREET_INPUTS:\n",
        "      return random.choice(GREET_RESPONSES)"
      ],
      "execution_count": 17,
      "outputs": []
    },
    {
      "cell_type": "markdown",
      "metadata": {
        "id": "CLEY-5fa6avp"
      },
      "source": [
        "Response generation"
      ]
    },
    {
      "cell_type": "code",
      "metadata": {
        "id": "K7t2zYdxvmvh"
      },
      "source": [
        "from sklearn.feature_extraction.text import TfidfVectorizer\n",
        "from sklearn.metrics.pairwise import cosine_similarity"
      ],
      "execution_count": 18,
      "outputs": []
    },
    {
      "cell_type": "code",
      "metadata": {
        "id": "PBAHM-FDxBxz"
      },
      "source": [
        "def response (user_response):\n",
        "  robo1_response = ''\n",
        "  TfidVec = TfidfVectorizer(tokenizer=LemNormalize, stop_words='english') \n",
        "  tfidf = TfidVec.fit_transform(sent_tokens)\n",
        "  vals = cosine_similarity(tfidf[-1], tfidf)\n",
        "  idx = vals.argsort()[0][-2]\n",
        "  flat = vals.flatten()\n",
        "  flat.sort()\n",
        "  req_tfidf = flat[-2]\n",
        "  if(req_tfidf == 0):\n",
        "    robo1_response = robo1_response + \"I am sorry I don't understand you!\"\n",
        "    return robo1_response\n",
        "  else:\n",
        "    robo1_response = robo1_response + sent_tokens[idx]\n",
        "    return robo1_response"
      ],
      "execution_count": 21,
      "outputs": []
    },
    {
      "cell_type": "markdown",
      "metadata": {
        "id": "kkDTbrGH6hwK"
      },
      "source": [
        "Defining conversation start/end protocols"
      ]
    },
    {
      "cell_type": "code",
      "metadata": {
        "colab": {
          "base_uri": "https://localhost:8080/"
        },
        "id": "Lhc8TAhgzFR6",
        "outputId": "28cc3361-65f2-4adc-86b8-8eee69553a56"
      },
      "source": [
        "flag = True\n",
        "print(\"BOT: I'm your buddy, Let's have a conversation! Also, if you want to end the chat, just type bye!\")\n",
        "while(flag == True):\n",
        "  user_response = input()\n",
        "  user_response = user_response.lower()\n",
        "  if(user_response!='bye'):\n",
        "    if(user_response == 'thanks' or user_response == 'thank you'):\n",
        "      flag = False\n",
        "      print(\"BOT: You are welcome!\")\n",
        "    else:\n",
        "      if(greet(user_response)!= None):\n",
        "        print(\"BOT: \" + greet(user_response))\n",
        "      else:\n",
        "        sent_tokens.append(user_response)\n",
        "        word_tokens = word_tokens + nltk.word_tokenize(user_response)\n",
        "        final_words = list(set(word_tokens))\n",
        "        print(\"BOT: \", end = \"\")\n",
        "        print(response(user_response))\n",
        "        sent_tokens.remove(user_response)\n",
        "  else:\n",
        "    flag = False\n",
        "    print(\"BOT: Goodbye!! Have a nice day!\")\n"
      ],
      "execution_count": 24,
      "outputs": [
        {
          "output_type": "stream",
          "name": "stdout",
          "text": [
            "BOT: I'm your buddy, Let's have a conversation! Also, if you want to end the chat, just type bye!\n",
            "bye\n",
            "BOT: Goodbye!! Have a nice day!\n"
          ]
        }
      ]
    }
  ]
}